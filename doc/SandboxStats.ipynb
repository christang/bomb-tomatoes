{
 "cells": [
  {
   "cell_type": "code",
   "execution_count": 1,
   "metadata": {
    "collapsed": false
   },
   "outputs": [
    {
     "name": "stdout",
     "output_type": "stream",
     "text": [
      "Populating the interactive namespace from numpy and matplotlib\n"
     ]
    }
   ],
   "source": [
    "import sys\n",
    "sys.path.append('src')\n",
    "\n",
    "%pylab inline"
   ]
  },
  {
   "cell_type": "code",
   "execution_count": 2,
   "metadata": {
    "collapsed": false
   },
   "outputs": [],
   "source": [
    "# %load src/statistics\n",
    "import cPickle as pickle\n",
    "import numpy as np\n",
    "import scipy.stats as spstats\n",
    "import os\n",
    "\n",
    "from models.movies import Movies\n",
    "from models.ratings import Ratings\n",
    "from models.users import Users\n",
    "\n",
    "\n",
    "class SummaryStatistics(object):\n",
    "\n",
    "    def __init__(self, movies, ratings, users):\n",
    "        self.movies = movies\n",
    "        self.ratings = ratings\n",
    "        self.users = users\n",
    "\n",
    "        self.movie_stats = self.summary_movies()\n",
    "        self.user_stats = self.summary_users()\n",
    "\n",
    "    def summary_movies(self):\n",
    "        summary = {}\n",
    "\n",
    "        for m in self.movies.movies:\n",
    "            movie_ratings = self.ratings.for_movie(m.ID)\n",
    "            summary[m.ID] = SummaryStatistics.summary_stats(movie_ratings)\n",
    "\n",
    "        return summary\n",
    "\n",
    "    def summary_users(self):\n",
    "        summary = {}\n",
    "\n",
    "        for u in self.users.users:\n",
    "            movie_ratings = self.ratings.for_user(u.ID)\n",
    "            summary[u.ID] = SummaryStatistics.summary_stats(movie_ratings)\n",
    "\n",
    "        return summary\n",
    "\n",
    "    @staticmethod\n",
    "    def summary_stats(movie_ratings):\n",
    "        count = len(movie_ratings)\n",
    "        if count > 0:\n",
    "            amean = np.mean([r.rating for r in movie_ratings])\n",
    "            hmean = spstats.hmean([r.rating for r in movie_ratings])\n",
    "            var = np.var([r.rating for r in movie_ratings])\n",
    "        else:\n",
    "            amean = np.NaN\n",
    "            hmean = np.NaN\n",
    "            var = np.NaN\n",
    "        return count, amean, hmean, var\n",
    "\n",
    "\n",
    "def get_workspace(data_dir):\n",
    "\n",
    "    cwd = data_dir\n",
    "    pickle_fn = os.path.join(cwd, 'stats.pkl')\n",
    "\n",
    "    if not os.path.isfile(pickle_fn):\n",
    "        movies = Movies.parse_stream(open(os.path.join(cwd, 'movies.dat')))\n",
    "        ratings = Ratings.parse_stream(open(os.path.join(cwd, 'ratings.dat')))\n",
    "        users = Users.parse_stream(open(os.path.join(cwd, 'users.dat')))\n",
    "\n",
    "        stats = SummaryStatistics(movies, ratings, users)\n",
    "        pickle.dump(stats, open(pickle_fn, 'wb'))\n",
    "    else:\n",
    "        stats = pickle.load(open(pickle_fn))\n",
    "\n",
    "    return stats\n",
    "\n",
    "if __name__ == '__main__':\n",
    "    stats = get_workspace('dat/ml-1m')\n"
   ]
  },
  {
   "cell_type": "code",
   "execution_count": 3,
   "metadata": {
    "collapsed": false
   },
   "outputs": [
    {
     "name": "stdout",
     "output_type": "stream",
     "text": [
      "Variable            Type                 Data/Info\n",
      "--------------------------------------------------\n",
      "Movies              type                 <class 'models.movies.Movies'>\n",
      "Ratings             type                 <class 'models.ratings.Ratings'>\n",
      "SummaryStatistics   type                 <class '__main__.SummaryStatistics'>\n",
      "Users               type                 <class 'models.users.Users'>\n",
      "get_workspace       function             <function get_workspace at 0x108228a28>\n",
      "os                  module               <module 'os' from '/Users<...>y2/lib/python2.7/os.pyc'>\n",
      "pickle              module               <module 'cPickle' from '/<...>/lib-dynload/cPickle.so'>\n",
      "spstats             module               <module 'scipy.stats' fro<...>cipy/stats/__init__.pyc'>\n",
      "stats               SummaryStatistics    <__main__.SummaryStatisti<...>cs object at 0x108226ad0>\n"
     ]
    }
   ],
   "source": [
    "%whos"
   ]
  },
  {
   "cell_type": "code",
   "execution_count": 6,
   "metadata": {
    "collapsed": false
   },
   "outputs": [
    {
     "data": {
      "text/plain": [
       "(array([  1.59800000e+03,   5.18000000e+02,   3.67000000e+02,\n",
       "          2.72000000e+02,   1.77000000e+02,   1.74000000e+02,\n",
       "          1.31000000e+02,   8.50000000e+01,   7.80000000e+01,\n",
       "          7.20000000e+01,   6.10000000e+01,   5.10000000e+01,\n",
       "          4.00000000e+01,   3.30000000e+01,   3.00000000e+01,\n",
       "          2.80000000e+01,   3.10000000e+01,   1.60000000e+01,\n",
       "          1.10000000e+01,   2.10000000e+01,   1.40000000e+01,\n",
       "          8.00000000e+00,   8.00000000e+00,   4.00000000e+00,\n",
       "          8.00000000e+00,   8.00000000e+00,   5.00000000e+00,\n",
       "          0.00000000e+00,   1.00000000e+00,   3.00000000e+00,\n",
       "          2.00000000e+00,   2.00000000e+00,   5.00000000e+00,\n",
       "          5.00000000e+00,   1.00000000e+00,   2.00000000e+00,\n",
       "          2.00000000e+00,   4.00000000e+00,   3.00000000e+00,\n",
       "          0.00000000e+00,   0.00000000e+00,   0.00000000e+00,\n",
       "          1.00000000e+00,   2.00000000e+00,   0.00000000e+00,\n",
       "          0.00000000e+00,   0.00000000e+00,   0.00000000e+00,\n",
       "          0.00000000e+00,   1.00000000e+00]),\n",
       " array([    0.  ,    68.56,   137.12,   205.68,   274.24,   342.8 ,\n",
       "          411.36,   479.92,   548.48,   617.04,   685.6 ,   754.16,\n",
       "          822.72,   891.28,   959.84,  1028.4 ,  1096.96,  1165.52,\n",
       "         1234.08,  1302.64,  1371.2 ,  1439.76,  1508.32,  1576.88,\n",
       "         1645.44,  1714.  ,  1782.56,  1851.12,  1919.68,  1988.24,\n",
       "         2056.8 ,  2125.36,  2193.92,  2262.48,  2331.04,  2399.6 ,\n",
       "         2468.16,  2536.72,  2605.28,  2673.84,  2742.4 ,  2810.96,\n",
       "         2879.52,  2948.08,  3016.64,  3085.2 ,  3153.76,  3222.32,\n",
       "         3290.88,  3359.44,  3428.  ]),\n",
       " <a list of 50 Patch objects>)"
      ]
     },
     "execution_count": 6,
     "metadata": {},
     "output_type": "execute_result"
    },
    {
     "data": {
      "image/png": "[encoded data removed]",
      "text/plain": [
       "<matplotlib.figure.Figure at 0x108449550>"
      ]
     },
     "metadata": {},
     "output_type": "display_data"
    }
   ],
   "source": [
    "hist([msv[0] for msk, msv in stats.movie_stats.items()], bins=50) # counts"
   ]
  },
  {
   "cell_type": "code",
   "execution_count": 9,
   "metadata": {
    "collapsed": false
   },
   "outputs": [
    {
     "data": {
      "text/plain": [
       "(array([  39.,   63.,  198.,  325.,  537.,  864.,  888.,  627.,  151.,   14.]),\n",
       " array([ 1. ,  1.4,  1.8,  2.2,  2.6,  3. ,  3.4,  3.8,  4.2,  4.6,  5. ]),\n",
       " <a list of 10 Patch objects>)"
      ]
     },
     "execution_count": 9,
     "metadata": {},
     "output_type": "execute_result"
    },
    {
     "data": {
      "image/png": "[encoded data removed]",
      "text/plain": [
       "<matplotlib.figure.Figure at 0x1089839d0>"
      ]
     },
     "metadata": {},
     "output_type": "display_data"
    }
   ],
   "source": [
    "import math\n",
    "\n",
    "hist([msv[1] for msk, msv in stats.movie_stats.items() if not math.isnan(msv[1])]) # arith mean"
   ]
  },
  {
   "cell_type": "code",
   "execution_count": 10,
   "metadata": {
    "collapsed": false
   },
   "outputs": [
    {
     "data": {
      "text/plain": [
       "(array([ 107.,  249.,  462.,  557.,  683.,  771.,  578.,  259.,   27.,   13.]),\n",
       " array([ 1. ,  1.4,  1.8,  2.2,  2.6,  3. ,  3.4,  3.8,  4.2,  4.6,  5. ]),\n",
       " <a list of 10 Patch objects>)"
      ]
     },
     "execution_count": 10,
     "metadata": {},
     "output_type": "execute_result"
    },
    {
     "data": {
      "image/png": "[encoded data removed]",
      "text/plain": [
       "<matplotlib.figure.Figure at 0x121f496d0>"
      ]
     },
     "metadata": {},
     "output_type": "display_data"
    }
   ],
   "source": [
    "hist([msv[2] for msk, msv in stats.movie_stats.items() if not math.isnan(msv[1])]) # harm mean"
   ]
  },
  {
   "cell_type": "code",
   "execution_count": 11,
   "metadata": {
    "collapsed": false
   },
   "outputs": [
    {
     "data": {
      "text/plain": [
       "(array([  2.25000000e+02,   7.16000000e+02,   1.92100000e+03,\n",
       "          6.66000000e+02,   1.14000000e+02,   4.50000000e+01,\n",
       "          1.30000000e+01,   3.00000000e+00,   2.00000000e+00,\n",
       "          1.00000000e+00]),\n",
       " array([ 0. ,  0.4,  0.8,  1.2,  1.6,  2. ,  2.4,  2.8,  3.2,  3.6,  4. ]),\n",
       " <a list of 10 Patch objects>)"
      ]
     },
     "execution_count": 11,
     "metadata": {},
     "output_type": "execute_result"
    },
    {
     "data": {
      "image/png": "[encoded data removed]",
      "text/plain": [
       "<matplotlib.figure.Figure at 0x104495a50>"
      ]
     },
     "metadata": {},
     "output_type": "display_data"
    }
   ],
   "source": [
    "hist([msv[3] for msk, msv in stats.movie_stats.items() if not math.isnan(msv[1])]) # variance"
   ]
  },
  {
   "cell_type": "code",
   "execution_count": 12,
   "metadata": {
    "collapsed": false
   },
   "outputs": [
    {
     "data": {
      "text/plain": [
       "(array([  2.29800000e+03,   1.06300000e+03,   6.88000000e+02,\n",
       "          4.42000000e+02,   3.24000000e+02,   2.33000000e+02,\n",
       "          2.17000000e+02,   1.29000000e+02,   1.32000000e+02,\n",
       "          8.00000000e+01,   8.40000000e+01,   6.50000000e+01,\n",
       "          4.40000000e+01,   3.70000000e+01,   3.40000000e+01,\n",
       "          3.20000000e+01,   2.60000000e+01,   2.30000000e+01,\n",
       "          2.30000000e+01,   1.20000000e+01,   1.10000000e+01,\n",
       "          1.10000000e+01,   3.00000000e+00,   2.00000000e+00,\n",
       "          3.00000000e+00,   3.00000000e+00,   8.00000000e+00,\n",
       "          5.00000000e+00,   2.00000000e+00,   0.00000000e+00,\n",
       "          0.00000000e+00,   0.00000000e+00,   2.00000000e+00,\n",
       "          0.00000000e+00,   1.00000000e+00,   0.00000000e+00,\n",
       "          0.00000000e+00,   1.00000000e+00,   0.00000000e+00,\n",
       "          1.00000000e+00,   0.00000000e+00,   0.00000000e+00,\n",
       "          0.00000000e+00,   0.00000000e+00,   0.00000000e+00,\n",
       "          0.00000000e+00,   0.00000000e+00,   0.00000000e+00,\n",
       "          0.00000000e+00,   1.00000000e+00]),\n",
       " array([   20.  ,    65.88,   111.76,   157.64,   203.52,   249.4 ,\n",
       "          295.28,   341.16,   387.04,   432.92,   478.8 ,   524.68,\n",
       "          570.56,   616.44,   662.32,   708.2 ,   754.08,   799.96,\n",
       "          845.84,   891.72,   937.6 ,   983.48,  1029.36,  1075.24,\n",
       "         1121.12,  1167.  ,  1212.88,  1258.76,  1304.64,  1350.52,\n",
       "         1396.4 ,  1442.28,  1488.16,  1534.04,  1579.92,  1625.8 ,\n",
       "         1671.68,  1717.56,  1763.44,  1809.32,  1855.2 ,  1901.08,\n",
       "         1946.96,  1992.84,  2038.72,  2084.6 ,  2130.48,  2176.36,\n",
       "         2222.24,  2268.12,  2314.  ]),\n",
       " <a list of 50 Patch objects>)"
      ]
     },
     "execution_count": 12,
     "metadata": {},
     "output_type": "execute_result"
    },
    {
     "data": {
      "image/png": "[encoded data removed]",
      "text/plain": [
       "<matplotlib.figure.Figure at 0x1088ee890>"
      ]
     },
     "metadata": {},
     "output_type": "display_data"
    }
   ],
   "source": [
    "hist([usv[0] for usk, usv in stats.user_stats.items()], bins=50) # counts"
   ]
  },
  {
   "cell_type": "code",
   "execution_count": 13,
   "metadata": {
    "collapsed": false
   },
   "outputs": [
    {
     "data": {
      "text/plain": [
       "(array([    3.,     0.,    15.,    62.,   275.,   907.,  2026.,  2019.,\n",
       "          675.,    58.]),\n",
       " array([ 1.01538462,  1.41014245,  1.80490028,  2.19965812,  2.59441595,\n",
       "         2.98917379,  3.38393162,  3.77868946,  4.17344729,  4.56820513,\n",
       "         4.96296296]),\n",
       " <a list of 10 Patch objects>)"
      ]
     },
     "execution_count": 13,
     "metadata": {},
     "output_type": "execute_result"
    },
    {
     "data": {
      "image/png": "[encoded data removed]",
      "text/plain": [
       "<matplotlib.figure.Figure at 0x121f3ec10>"
      ]
     },
     "metadata": {},
     "output_type": "display_data"
    }
   ],
   "source": [
    "hist([usv[1] for usk, usv in stats.user_stats.items() if not math.isnan(usv[1])]) # arith mean"
   ]
  },
  {
   "cell_type": "code",
   "execution_count": 15,
   "metadata": {
    "collapsed": false
   },
   "outputs": [
    {
     "data": {
      "text/plain": [
       "(array([    8.,    48.,   166.,   471.,   997.,  1587.,  1665.,   847.,\n",
       "          227.,    24.]),\n",
       " array([ 1.00775194,  1.40238959,  1.79702724,  2.19166489,  2.58630254,\n",
       "         2.98094019,  3.37557784,  3.77021549,  4.16485314,  4.55949079,\n",
       "         4.95412844]),\n",
       " <a list of 10 Patch objects>)"
      ]
     },
     "execution_count": 15,
     "metadata": {},
     "output_type": "execute_result"
    },
    {
     "data": {
      "image/png": "[encoded data removed]",
      "text/plain": [
       "<matplotlib.figure.Figure at 0x108226810>"
      ]
     },
     "metadata": {},
     "output_type": "display_data"
    }
   ],
   "source": [
    "hist([usv[2] for usk, usv in stats.user_stats.items() if not math.isnan(usv[1])]) # harm mean"
   ]
  },
  {
   "cell_type": "code",
   "execution_count": 16,
   "metadata": {
    "collapsed": false
   },
   "outputs": [
    {
     "data": {
      "text/plain": [
       "(array([   71.,  1117.,  2137.,  1562.,   698.,   300.,    99.,    40.,\n",
       "           12.,     4.]),\n",
       " array([ 0.01514793,  0.35422492,  0.69330191,  1.0323789 ,  1.37145589,\n",
       "         1.71053288,  2.04960988,  2.38868687,  2.72776386,  3.06684085,\n",
       "         3.40591784]),\n",
       " <a list of 10 Patch objects>)"
      ]
     },
     "execution_count": 16,
     "metadata": {},
     "output_type": "execute_result"
    },
    {
     "data": {
      "image/png": "[encoded data removed]",
      "text/plain": [
       "<matplotlib.figure.Figure at 0x121ffc690>"
      ]
     },
     "metadata": {},
     "output_type": "display_data"
    }
   ],
   "source": [
    "hist([usv[3] for usk, usv in stats.user_stats.items() if not math.isnan(usv[1])]) # variance"
   ]
  },
  {
   "cell_type": "code",
   "execution_count": 17,
   "metadata": {
    "collapsed": false
   },
   "outputs": [
    {
     "data": {
      "text/plain": [
       "[53,\n",
       " 129,\n",
       " 51,\n",
       " 21,\n",
       " 198,\n",
       " 71,\n",
       " 31,\n",
       " 139,\n",
       " 106,\n",
       " 401,\n",
       " 137,\n",
       " 23,\n",
       " 108,\n",
       " 25,\n",
       " 201,\n",
       " 35,\n",
       " 211,\n",
       " 305,\n",
       " 255,\n",
       " 24,\n",
       " 22,\n",
       " 297,\n",
       " 304,\n",
       " 136,\n",
       " 85,\n",
       " 400,\n",
       " 70,\n",
       " 107,\n",
       " 108,\n",
       " 43,\n",
       " 119,\n",
       " 48,\n",
       " 391,\n",
       " 164,\n",
       " 198,\n",
       " 351,\n",
       " 53,\n",
       " 100,\n",
       " 62,\n",
       " 96,\n",
       " 25,\n",
       " 231,\n",
       " 24,\n",
       " 193,\n",
       " 297,\n",
       " 41,\n",
       " 22,\n",
       " 598,\n",
       " 108,\n",
       " 43,\n",
       " 40,\n",
       " 79,\n",
       " 684,\n",
       " 40,\n",
       " 25,\n",
       " 67,\n",
       " 64,\n",
       " 437,\n",
       " 213,\n",
       " 70,\n",
       " 36,\n",
       " 498,\n",
       " 98,\n",
       " 27,\n",
       " 121,\n",
       " 26,\n",
       " 64,\n",
       " 72,\n",
       " 65,\n",
       " 54,\n",
       " 29,\n",
       " 43,\n",
       " 255,\n",
       " 43,\n",
       " 175,\n",
       " 87,\n",
       " 39,\n",
       " 140,\n",
       " 31,\n",
       " 48,\n",
       " 86,\n",
       " 118,\n",
       " 99,\n",
       " 31,\n",
       " 39,\n",
       " 48,\n",
       " 59,\n",
       " 68,\n",
       " 21,\n",
       " 225,\n",
       " 44,\n",
       " 430,\n",
       " 220,\n",
       " 21,\n",
       " 99,\n",
       " 81,\n",
       " 154,\n",
       " 20,\n",
       " 107]"
      ]
     },
     "execution_count": 17,
     "metadata": {},
     "output_type": "execute_result"
    }
   ],
   "source": [
    "[len(stats.ratings.for_user(i)) for i in xrange(1,100)]"
   ]
  },
  {
   "cell_type": "code",
   "execution_count": 19,
   "metadata": {
    "collapsed": false
   },
   "outputs": [
    {
     "data": {
      "text/plain": [
       "[2::1357::5::978298709,\n",
       " 2::3068::4::978299000,\n",
       " 2::1537::4::978299620,\n",
       " 2::647::3::978299351,\n",
       " 2::2194::4::978299297,\n",
       " 2::648::4::978299913,\n",
       " 2::2268::5::978299297,\n",
       " 2::2628::3::978300051,\n",
       " 2::1103::3::978298905,\n",
       " 2::2916::3::978299809,\n",
       " 2::3468::5::978298542,\n",
       " 2::1210::4::978298151,\n",
       " 2::1792::3::978299941,\n",
       " 2::1687::3::978300174,\n",
       " 2::1213::2::978298458,\n",
       " 2::3578::5::978298958,\n",
       " 2::2881::3::978300002,\n",
       " 2::3030::4::978298434,\n",
       " 2::1217::3::978298151,\n",
       " 2::3105::4::978298673,\n",
       " 2::434::2::978300174,\n",
       " 2::2126::3::978300123,\n",
       " 2::3107::2::978300002,\n",
       " 2::3108::3::978299712,\n",
       " 2::3035::4::978298625,\n",
       " 2::1253::3::978299120,\n",
       " 2::1610::5::978299809,\n",
       " 2::292::3::978300123,\n",
       " 2::2236::5::978299220,\n",
       " 2::3071::4::978299120,\n",
       " 2::902::2::978298905,\n",
       " 2::368::4::978300002,\n",
       " 2::1259::5::978298841,\n",
       " 2::3147::5::978298652,\n",
       " 2::1544::4::978300174,\n",
       " 2::1293::5::978298261,\n",
       " 2::1188::4::978299620,\n",
       " 2::3255::4::978299321,\n",
       " 2::3256::2::978299839,\n",
       " 2::3257::3::978300073,\n",
       " 2::110::5::978298625,\n",
       " 2::2278::3::978299889,\n",
       " 2::2490::3::978299966,\n",
       " 2::1834::4::978298813,\n",
       " 2::3471::5::978298814,\n",
       " 2::589::4::978299773,\n",
       " 2::1690::3::978300051,\n",
       " 2::3654::3::978298814,\n",
       " 2::2852::3::978298958,\n",
       " 2::1945::5::978298458,\n",
       " 2::982::4::978299269,\n",
       " 2::1873::4::978298542,\n",
       " 2::2858::4::978298434,\n",
       " 2::1225::5::978298391,\n",
       " 2::2028::4::978299773,\n",
       " 2::515::5::978298542,\n",
       " 2::442::3::978300025,\n",
       " 2::2312::3::978299046,\n",
       " 2::265::4::978299026,\n",
       " 2::1408::3::978299839,\n",
       " 2::1084::3::978298813,\n",
       " 2::3699::2::978299173,\n",
       " 2::480::5::978299809,\n",
       " 2::1442::4::978299297,\n",
       " 2::2067::5::978298625,\n",
       " 2::1265::3::978299712,\n",
       " 2::1370::5::978299889,\n",
       " 2::1193::5::978298413,\n",
       " 2::1801::3::978300002,\n",
       " 2::1372::3::978299941,\n",
       " 2::2353::4::978299861,\n",
       " 2::3334::4::978298958,\n",
       " 2::2427::2::978299913,\n",
       " 2::590::5::978299083,\n",
       " 2::1196::5::978298730,\n",
       " 2::1552::3::978299941,\n",
       " 2::736::4::978300100,\n",
       " 2::1198::4::978298124,\n",
       " 2::593::5::978298517,\n",
       " 2::2359::3::978299666,\n",
       " 2::95::2::978300143,\n",
       " 2::2717::3::978298196,\n",
       " 2::2571::4::978299773,\n",
       " 2::1917::3::978300174,\n",
       " 2::2396::4::978299641,\n",
       " 2::3735::3::978298814,\n",
       " 2::1953::4::978298775,\n",
       " 2::1597::3::978300025,\n",
       " 2::3809::3::978299712,\n",
       " 2::1954::5::978298841,\n",
       " 2::1955::4::978299200,\n",
       " 2::235::3::978299351,\n",
       " 2::1124::5::978299418,\n",
       " 2::1957::5::978298750,\n",
       " 2::163::4::978299809,\n",
       " 2::21::1::978299839,\n",
       " 2::165::3::978300002,\n",
       " 2::2321::3::978299666,\n",
       " 2::1090::2::978298580,\n",
       " 2::380::5::978299809,\n",
       " 2::2501::5::978298600,\n",
       " 2::349::4::978299839,\n",
       " 2::457::4::978299773,\n",
       " 2::1096::4::978299386,\n",
       " 2::920::5::978298775,\n",
       " 2::459::3::978300002,\n",
       " 2::1527::4::978299839,\n",
       " 2::3418::4::978299809,\n",
       " 2::1385::3::978299966,\n",
       " 2::3451::4::978298924,\n",
       " 2::3095::4::978298517,\n",
       " 2::780::3::978299966,\n",
       " 2::498::3::978299418,\n",
       " 2::2728::3::978298881,\n",
       " 2::2002::5::978300100,\n",
       " 2::1962::5::978298813,\n",
       " 2::1784::5::978298841,\n",
       " 2::2943::4::978298372,\n",
       " 2::2006::3::978299861,\n",
       " 2::318::5::978298413,\n",
       " 2::1207::4::978298478,\n",
       " 2::1968::2::978298881,\n",
       " 2::3678::3::978299250,\n",
       " 2::1244::3::978299143,\n",
       " 2::356::5::978299686,\n",
       " 2::1245::2::978299200,\n",
       " 2::1246::5::978299418,\n",
       " 2::3893::1::978299535,\n",
       " 2::1247::5::978298652]"
      ]
     },
     "execution_count": 19,
     "metadata": {},
     "output_type": "execute_result"
    }
   ],
   "source": [
    "stats.ratings.for_user(2)"
   ]
  },
  {
   "cell_type": "code",
   "execution_count": 20,
   "metadata": {
    "collapsed": false
   },
   "outputs": [
    {
     "data": {
      "text/plain": [
       "(559, 3.5026833631484795, 3.0672153635116599, 0.9619784882920881)"
      ]
     },
     "execution_count": 20,
     "metadata": {},
     "output_type": "execute_result"
    }
   ],
   "source": [
    "stats.movie_stats[3893]"
   ]
  },
  {
   "cell_type": "code",
   "execution_count": 22,
   "metadata": {
    "collapsed": false
   },
   "outputs": [
    {
     "data": {
      "text/plain": [
       "3893::Nurse Betty::2000::Comedy|Thriller"
      ]
     },
     "execution_count": 22,
     "metadata": {},
     "output_type": "execute_result"
    }
   ],
   "source": [
    "stats.movies[3893]"
   ]
  },
  {
   "cell_type": "code",
   "execution_count": null,
   "metadata": {
    "collapsed": true
   },
   "outputs": [],
   "source": []
  }
 ],
 "metadata": {
  "kernelspec": {
   "display_name": "Python 2",
   "language": "python",
   "name": "python2"
  },
  "language_info": {
   "codemirror_mode": {
    "name": "ipython",
    "version": 2
   },
   "file_extension": ".py",
   "mimetype": "text/x-python",
   "name": "python",
   "nbconvert_exporter": "python",
   "pygments_lexer": "ipython2",
   "version": "2.7.5"
  }
 },
 "nbformat": 4,
 "nbformat_minor": 0
}
